{
 "cells": [
  {
   "cell_type": "markdown",
   "id": "d3bfc191-8885-42ee-b0a0-bbab867c6f9f",
   "metadata": {
    "tags": []
   },
   "source": [
    "# Lab | Flow Control"
   ]
  },
  {
   "cell_type": "markdown",
   "id": "3851fcd1-cf98-4653-9c89-e003b7ec9400",
   "metadata": {},
   "source": [
    "## Exercise: Managing Customer Orders Optimized\n",
    "\n",
    "In the last lab, you were starting an online store that sells various products. To ensure smooth operations, you developed a program that manages customer orders and inventory.\n",
    "\n",
    "You did so without using flow control. Let's go a step further and improve this code.\n",
    "\n",
    "Follow the steps below to complete the exercise:\n",
    "\n",
    "1. Look at your code from the lab data structures, and improve repeated code with loops.\n",
    "\n",
    "2. Instead of asking the user to input the name of three products that a customer wants to order, do the following:\n",
    "    \n",
    "    a. Prompt the user to enter the name of a product that a customer wants to order.\n",
    "    \n",
    "    b. Add the product name to the \"customer_orders\" set.\n",
    "    \n",
    "    c. Ask the user if they want to add another product (yes/no).\n",
    "    \n",
    "    d. Continue the loop until the user does not want to add another product.\n",
    "\n",
    "3. Instead of updating the inventory by subtracting 1 from the quantity of each product, only do it for  the products that were ordered (those in \"customer_orders\")."
   ]
  },
  {
   "cell_type": "code",
   "execution_count": 4,
   "id": "5ef99df8",
   "metadata": {},
   "outputs": [
    {
     "name": "stdout",
     "output_type": "stream",
     "text": [
      "inventory: {'t-shirt': 6, 'mug': 8, 'hat': 2, 'book': 4, 'keychain': 5}\n"
     ]
    }
   ],
   "source": [
    "products = ['t-shirt', 'mug', 'hat', 'book', 'keychain']\n",
    "inventory= {}\n",
    "customer_orders = set()\n",
    "\n",
    "for product in products:\n",
    "    quantity = int(input(f'enter the quantity of {product}:'))\n",
    "    inventory[product] = quantity\n",
    "    \n",
    "print(f'inventory: {inventory}')"
   ]
  },
  {
   "cell_type": "code",
   "execution_count": 6,
   "id": "30dd6b22",
   "metadata": {},
   "outputs": [
    {
     "name": "stdout",
     "output_type": "stream",
     "text": [
      "mug added to the order.\n",
      "book added to the order.\n",
      "t-shirt added to the order.\n",
      "customer order: {'mug', 'book', 't-shirt'}\n"
     ]
    }
   ],
   "source": [
    "while True:\n",
    "    order = input(f'enter the name of a product from {products}:')\n",
    "    if order in products:\n",
    "        customer_orders.add(order)\n",
    "        print(f'{order} added to the order.')\n",
    "    else:\n",
    "        print(f'{order} is not available.')\n",
    "    \n",
    "    question = input('do you want to add another product? (yes/no):').lower()\n",
    "    \n",
    "    if question != 'yes':\n",
    "        break\n",
    "        \n",
    "print(f'customer order: {customer_orders}')"
   ]
  },
  {
   "cell_type": "code",
   "execution_count": 7,
   "id": "4c9883cd",
   "metadata": {},
   "outputs": [
    {
     "name": "stdout",
     "output_type": "stream",
     "text": [
      "\n",
      "updated inventory:\n",
      "t-shirt: 5\n",
      "mug: 7\n",
      "hat: 2\n",
      "book: 3\n",
      "keychain: 5\n"
     ]
    }
   ],
   "source": [
    "for product in customer_orders:\n",
    "    inventory[product] -= 1\n",
    "    \n",
    "print('\\nupdated inventory:')\n",
    "for product, quantity in inventory.items():\n",
    "    print(f'{product}: {quantity}')"
   ]
  },
  {
   "cell_type": "code",
   "execution_count": null,
   "id": "69627265",
   "metadata": {},
   "outputs": [],
   "source": []
  }
 ],
 "metadata": {
  "kernelspec": {
   "display_name": "Python 3 (ipykernel)",
   "language": "python",
   "name": "python3"
  },
  "language_info": {
   "codemirror_mode": {
    "name": "ipython",
    "version": 3
   },
   "file_extension": ".py",
   "mimetype": "text/x-python",
   "name": "python",
   "nbconvert_exporter": "python",
   "pygments_lexer": "ipython3",
   "version": "3.11.2"
  }
 },
 "nbformat": 4,
 "nbformat_minor": 5
}
